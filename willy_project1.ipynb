{
 "cells": [
  {
   "cell_type": "markdown",
   "id": "57a10c67-6238-42bd-8a77-d85475c4a264",
   "metadata": {},
   "source": [
    "**Implement the Incremental Algorithm and Gauss Reduction\n",
    "Algorithm. The input\n",
    "should be a simplicial complex K (as a list or dictionary) or a filtra-\n",
    "tion of subcomplexes $K_1 ⊂ K_2 ⊂ K_3 ⊂ · · · ⊂ K_n = K.$**"
   ]
  },
  {
   "cell_type": "code",
   "execution_count": 1,
   "id": "1533553d-f82c-4841-a853-564d393c8d9f",
   "metadata": {},
   "outputs": [],
   "source": [
    "import numpy as np"
   ]
  },
  {
   "cell_type": "markdown",
   "id": "06326883-a547-4bf9-933c-3a101b1f595e",
   "metadata": {},
   "source": [
    "#### **Boundary Matrix**"
   ]
  },
  {
   "cell_type": "markdown",
   "id": "9643e548-b1ca-42c7-b396-e707e1ac97cc",
   "metadata": {},
   "source": [
    "$$\n",
    "\\Delta_{i,j} = \n",
    "\\begin{cases} \n",
    "1 & \\text{if } \\sigma_i \\text{ is a face of } \\sigma_j \\text{ and } |\\sigma_i| = |\\sigma_j| - 1, \\\\\n",
    "0 & \\text{else.}\n",
    "\\end{cases}\n",
    "$$"
   ]
  },
  {
   "cell_type": "code",
   "execution_count": 2,
   "id": "15420e84-30de-4469-8288-fcdbe9db9d9f",
   "metadata": {},
   "outputs": [],
   "source": [
    "def create_boundary_matrix(simplices: list):\n",
    "    set_simplices = [set(s) for s in simplices]\n",
    "    matrix = np.zeros((len(simplices), len(simplices)))\n",
    "    set_simplices_ordered = sorted(set_simplices, key=lambda x: len(x))\n",
    "    # print(set_simplices_ordered)\n",
    "\n",
    "    for i, sigma_1 in enumerate(set_simplices_ordered):\n",
    "        for j, sigma_2 in enumerate(set_simplices_ordered):\n",
    "            if sigma_1.issubset(sigma_2) and len(sigma_1)==len(sigma_2)-1:\n",
    "                matrix[i, j] = 1\n",
    "\n",
    "    return matrix, set_simplices_ordered\n",
    "            "
   ]
  },
  {
   "cell_type": "markdown",
   "id": "972dd07a-0d9e-49e4-a6d5-28b1042c1505",
   "metadata": {},
   "source": [
    "#### **The Reduced Boundary Matrix Algorithm**"
   ]
  },
  {
   "cell_type": "markdown",
   "id": "8e89918a-cabf-4bc1-8e6d-dfc8fea749f3",
   "metadata": {},
   "source": [
    "For any $ j $ such that $ 1 \\leq j \\leq n$, define\n",
    "$$\n",
    "\\delta(j) = \\max\\{i : \\Delta_{i,j} \\neq 0\\}.\n",
    "$$\n",
    "If $ \\Delta_{i,j} = 0 $ for all $ i $, we say that $ \\delta(j) $ is undefined. \n",
    "We say that the boundary matrix $ \\Delta $ is reduced if the map $ \\delta $ is injective on its domain."
   ]
  },
  {
   "cell_type": "code",
   "execution_count": 3,
   "id": "1eb1858e-620c-4861-b814-b95d5ecf8e9a",
   "metadata": {},
   "outputs": [],
   "source": [
    "def create_reduced_boundary_matrix(simplicies: list):\n",
    "\n",
    "    A, simplices_ordered = create_boundary_matrix(simplicies)\n",
    "    # print(A)\n",
    "    j = 0\n",
    "    break_outer = False\n",
    "    while j < A.shape[1]-1:\n",
    "        rows_index_j = np.where(A[:,j] != 0)[0]\n",
    "        if rows_index_j.size != 0:\n",
    "            sigma_j = rows_index_j.max()\n",
    "            while True:\n",
    "                for i in range(j+1, A.shape[1]):\n",
    "                    rows_index_i = np.where(A[:,i] != 0)[0]\n",
    "                    if rows_index_i.size != 0:\n",
    "                        sigma_i = rows_index_i.max()\n",
    "                        if sigma_i == sigma_j:\n",
    "                            A[:, i] = (A[:, i] + A[:, j]) % 2\n",
    "                            j = 0\n",
    "                            break_outer = True\n",
    "                    if break_outer:\n",
    "                        break\n",
    "    \n",
    "                else:\n",
    "                    j += 1\n",
    "                    break\n",
    "                if break_outer:\n",
    "                    break\n",
    "        else:\n",
    "            j += 1\n",
    "            continue\n",
    "        break_outer = False\n",
    "\n",
    "    return A, simplices_ordered\n",
    "        \n",
    "        "
   ]
  },
  {
   "cell_type": "markdown",
   "id": "26cd12d5-0f87-4219-9168-831798fa75f0",
   "metadata": {},
   "source": [
    "#### **Incremental Algorithm**"
   ]
  },
  {
   "cell_type": "code",
   "execution_count": 12,
   "id": "61e61b60-b55d-4745-acb5-cd02b709de25",
   "metadata": {},
   "outputs": [],
   "source": [
    "def incremental_algorithm(simplices: list):\n",
    "    A, simplices_ordered = create_reduced_boundary_matrix(simplices)\n",
    "    dimension = len(simplices_ordered[-1])-1\n",
    "    betti_numbers = np.zeros((dimension+1))\n",
    "    # print(A)\n",
    "    for j in range(A.shape[1]):\n",
    "        sig = np.where(A[:,j] != 0)[0]\n",
    "        d = len(simplices_ordered[j])-1\n",
    "        if sig.size == 0:\n",
    "            betti_numbers[d] += 1\n",
    "        else:\n",
    "            if d > 0:\n",
    "                betti_numbers[d-1] -= 1\n",
    "\n",
    "    return betti_numbers"
   ]
  },
  {
   "cell_type": "markdown",
   "id": "2f49f560-ecb6-4238-89ed-166e4f5055c8",
   "metadata": {},
   "source": [
    "#### **Test The Code**\n",
    "\n",
    "* *For the circle*"
   ]
  },
  {
   "cell_type": "code",
   "execution_count": 6,
   "id": "de33d014-872a-4223-ad6a-de3d81ce3bf8",
   "metadata": {},
   "outputs": [],
   "source": [
    "circle = [\n",
    "    [1], [2], [3], [1, 2], [2, 3], [3, 1]\n",
    "]"
   ]
  },
  {
   "cell_type": "code",
   "execution_count": 14,
   "id": "1914f899-3075-4f57-96bf-fc73b53c75ac",
   "metadata": {},
   "outputs": [
    {
     "name": "stdout",
     "output_type": "stream",
     "text": [
      "Betti numbers for the circle: [1. 1.]\n"
     ]
    }
   ],
   "source": [
    "betti_numbers = incremental_algorithm(circle)\n",
    "\n",
    "print(\"Betti numbers for the circle:\",betti_numbers) "
   ]
  },
  {
   "cell_type": "markdown",
   "id": "e78e985e-6487-4c37-8368-ad057a0772af",
   "metadata": {},
   "source": [
    " - *For the Torus*"
   ]
  },
  {
   "cell_type": "code",
   "execution_count": 22,
   "id": "1d9e2b42-00dd-44a9-9454-74f2212cb703",
   "metadata": {},
   "outputs": [],
   "source": [
    "torus = [\n",
    "    [0], [1], [2], [3], [4], [5], [6], [7], [8],\n",
    "    [0, 1], [0, 2], [0, 3], [0, 4], [0, 6], [0, 7], [1, 2], [1, 3], [1, 5], [1, 6], [1, 8], [2, 4], [2, 5], [2, 7], [2, 8], [3, 4], [3, 5], [3, 7], [3, 8], [4, 5], [4, 6], [4, 8], [5, 6], [5, 7], [6, 7], [6, 8], [7, 8],  [0, 1, 3], [0, 1, 6], [0, 2, 4], [0, 2, 7], [0, 3, 7], [0, 4, 6], [1, 2, 5], [1, 2, 8], [1, 3, 5], [1, 6, 8], [2, 4, 8], [2, 5, 7], [3, 4, 5], [3, 4, 8], [3, 7, 8], [4, 5, 6], [5, 6, 7], [6, 7, 8]\n",
    "]"
   ]
  },
  {
   "cell_type": "code",
   "execution_count": 23,
   "id": "d2e90190-f0ab-43cc-8ee5-1bebeb2b85b9",
   "metadata": {},
   "outputs": [
    {
     "name": "stdout",
     "output_type": "stream",
     "text": [
      "Betti numbers for the torus: [1. 2. 1.]\n"
     ]
    }
   ],
   "source": [
    "betti_numbers = incremental_algorithm(torus)\n",
    "\n",
    "print(\"Betti numbers for the torus:\",betti_numbers) "
   ]
  },
  {
   "cell_type": "markdown",
   "id": "1422ec8c-15c1-44e9-b5c4-20b56828ab7d",
   "metadata": {},
   "source": [
    " - *Cylinder*"
   ]
  },
  {
   "cell_type": "code",
   "execution_count": 26,
   "id": "71f7b050-20d4-4b3c-ad79-0e93c45d01d2",
   "metadata": {},
   "outputs": [],
   "source": [
    "cilinder = [\n",
    "    [0], [1], [2], [3], [4], [5],\n",
    "    [0, 1], [0, 2], [0, 3], [0, 5], [1, 2], [1, 4], [1, 5], [2, 3], [2, 4], [3, 4], [3, 5], [4, 5],\n",
    "     [0, 1, 2], [0, 1, 5], [0, 3, 5], [1, 2, 4], [2, 3, 4], [3, 4, 5]\n",
    "]"
   ]
  },
  {
   "cell_type": "code",
   "execution_count": 27,
   "id": "4fa27275-29a4-4927-bfb5-5a8d9629f0a3",
   "metadata": {},
   "outputs": [
    {
     "name": "stdout",
     "output_type": "stream",
     "text": [
      "Betti numbers for the cilinder: [1. 1. 0.]\n"
     ]
    }
   ],
   "source": [
    "betti_numbers = incremental_algorithm(cilinder)\n",
    "\n",
    "print(\"Betti numbers for the cilinder:\",betti_numbers) "
   ]
  },
  {
   "cell_type": "code",
   "execution_count": null,
   "id": "8e480916-0f4e-4a9a-825d-594bce9d41f8",
   "metadata": {},
   "outputs": [],
   "source": []
  }
 ],
 "metadata": {
  "kernelspec": {
   "display_name": "Python 3 (ipykernel)",
   "language": "python",
   "name": "python3"
  },
  "language_info": {
   "codemirror_mode": {
    "name": "ipython",
    "version": 3
   },
   "file_extension": ".py",
   "mimetype": "text/x-python",
   "name": "python",
   "nbconvert_exporter": "python",
   "pygments_lexer": "ipython3",
   "version": "3.12.6"
  }
 },
 "nbformat": 4,
 "nbformat_minor": 5
}
